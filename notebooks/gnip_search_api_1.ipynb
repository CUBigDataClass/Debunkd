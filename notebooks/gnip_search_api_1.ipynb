{
 "cells": [
  {
   "cell_type": "code",
   "execution_count": 1,
   "metadata": {
    "collapsed": true
   },
   "outputs": [],
   "source": [
    "import requests\n",
    "import json\n",
    "import configparser\n",
    "from pprint import pprint"
   ]
  },
  {
   "cell_type": "code",
   "execution_count": 2,
   "metadata": {
    "collapsed": false
   },
   "outputs": [],
   "source": [
    "query = \"trump\"\n",
    "maxResults = 500\n",
    "url = \"https://gnip-api.twitter.com/search/fullarchive/accounts/greg-students/prod.json?query={}&maxResults={}\""
   ]
  },
  {
   "cell_type": "code",
   "execution_count": 3,
   "metadata": {
    "collapsed": false
   },
   "outputs": [
    {
     "data": {
      "text/plain": [
       "['credentials.ini']"
      ]
     },
     "execution_count": 3,
     "metadata": {},
     "output_type": "execute_result"
    }
   ],
   "source": [
    "config = configparser.ConfigParser()\n",
    "config.read('credentials.ini')"
   ]
  },
  {
   "cell_type": "code",
   "execution_count": 4,
   "metadata": {
    "collapsed": true
   },
   "outputs": [],
   "source": [
    "r = requests.get(url.format(query, maxResults), auth=(config['GNIP_API']['username'], config['GNIP_API']['password']))"
   ]
  },
  {
   "cell_type": "code",
   "execution_count": 5,
   "metadata": {
    "collapsed": false
   },
   "outputs": [],
   "source": [
    "results = r.json()['results']"
   ]
  },
  {
   "cell_type": "code",
   "execution_count": 6,
   "metadata": {
    "collapsed": false
   },
   "outputs": [],
   "source": [
    "# for k in sorted(results[0].keys()):\n",
    "#     print(k, \":\", results[0][k], \"\\n\")"
   ]
  },
  {
   "cell_type": "code",
   "execution_count": 7,
   "metadata": {
    "collapsed": false
   },
   "outputs": [],
   "source": [
    "# res = results[0]"
   ]
  },
  {
   "cell_type": "code",
   "execution_count": 8,
   "metadata": {
    "collapsed": false
   },
   "outputs": [],
   "source": [
    "# res['retweeted_status']"
   ]
  },
  {
   "cell_type": "code",
   "execution_count": 10,
   "metadata": {
    "collapsed": false
   },
   "outputs": [
    {
     "name": "stdout",
     "output_type": "stream",
     "text": [
      "{'contributors': None,\n",
      " 'coordinates': None,\n",
      " 'created_at': 'Mon Mar 13 22:51:10 +0000 2017',\n",
      " 'entities': {'hashtags': [{'indices': [111, 121], 'text': 'PsychEval'}],\n",
      "              'symbols': [],\n",
      "              'urls': [],\n",
      "              'user_mentions': [{'id': 130617778,\n",
      "                                 'id_str': '130617778',\n",
      "                                 'indices': [3, 18],\n",
      "                                 'name': 'Keith Olbermann',\n",
      "                                 'screen_name': 'KeithOlbermann'},\n",
      "                                {'id': 471672239,\n",
      "                                 'id_str': '471672239',\n",
      "                                 'indices': [30, 45],\n",
      "                                 'name': 'Kellyanne Conway',\n",
      "                                 'screen_name': 'KellyannePolls'}]},\n",
      " 'favorite_count': 0,\n",
      " 'favorited': False,\n",
      " 'filter_level': 'low',\n",
      " 'geo': None,\n",
      " 'id': 841421407187697664,\n",
      " 'id_str': '841421407187697664',\n",
      " 'in_reply_to_screen_name': None,\n",
      " 'in_reply_to_status_id': None,\n",
      " 'in_reply_to_status_id_str': None,\n",
      " 'in_reply_to_user_id': None,\n",
      " 'in_reply_to_user_id_str': None,\n",
      " 'is_quote_status': False,\n",
      " 'lang': 'en',\n",
      " 'matching_rules': [{'tag': None}],\n",
      " 'place': None,\n",
      " 'quote_count': 0,\n",
      " 'reply_count': 0,\n",
      " 'retweet_count': 0,\n",
      " 'retweeted': False,\n",
      " 'retweeted_status': {'contributors': None,\n",
      "                      'coordinates': None,\n",
      "                      'created_at': 'Mon Mar 13 04:21:37 +0000 2017',\n",
      "                      'entities': {'hashtags': [{'indices': [91, 101],\n",
      "                                                 'text': 'PsychEval'}],\n",
      "                                   'symbols': [],\n",
      "                                   'urls': [{'display_url': 'usatoday.com/story/news/pol…',\n",
      "                                             'expanded_url': 'http://www.usatoday.com/story/news/politics/2017/03/12/kellyanne-conway-surveillance-trump-campaign-wider/99109170/',\n",
      "                                             'indices': [102, 125],\n",
      "                                             'unwound': {'description': 'Adviser '\n",
      "                                                                        'dismissive '\n",
      "                                                                        'of '\n",
      "                                                                        'the '\n",
      "                                                                        'extent, '\n",
      "                                                                        'impact '\n",
      "                                                                        'of '\n",
      "                                                                        'alleged '\n",
      "                                                                        'Russian '\n",
      "                                                                        'interference '\n",
      "                                                                        'in '\n",
      "                                                                        '2016 '\n",
      "                                                                        'campaign.',\n",
      "                                                         'status': 200,\n",
      "                                                         'title': 'Kellyanne '\n",
      "                                                                  'Conway '\n",
      "                                                                  'suggests '\n",
      "                                                                  'even wider '\n",
      "                                                                  'surveillance '\n",
      "                                                                  'of Trump '\n",
      "                                                                  'campaign',\n",
      "                                                         'url': 'http://www.usatoday.com/story/news/politics/2017/03/12/kellyanne-conway-surveillance-trump-campaign-wider/99109170/'},\n",
      "                                             'url': 'https://t.co/hc5JEaSnvv'}],\n",
      "                                   'user_mentions': [{'id': 471672239,\n",
      "                                                      'id_str': '471672239',\n",
      "                                                      'indices': [10, 25],\n",
      "                                                      'name': 'Kellyanne '\n",
      "                                                              'Conway',\n",
      "                                                      'screen_name': 'KellyannePolls'}]},\n",
      "                      'favorite_count': 2339,\n",
      "                      'favorited': False,\n",
      "                      'filter_level': 'low',\n",
      "                      'geo': None,\n",
      "                      'id': 841142178239938560,\n",
      "                      'id_str': '841142178239938560',\n",
      "                      'in_reply_to_screen_name': None,\n",
      "                      'in_reply_to_status_id': None,\n",
      "                      'in_reply_to_status_id_str': None,\n",
      "                      'in_reply_to_user_id': None,\n",
      "                      'in_reply_to_user_id_str': None,\n",
      "                      'is_quote_status': False,\n",
      "                      'lang': 'en',\n",
      "                      'place': None,\n",
      "                      'possibly_sensitive': False,\n",
      "                      'quote_count': 0,\n",
      "                      'reply_count': 660,\n",
      "                      'retweet_count': 1399,\n",
      "                      'retweeted': False,\n",
      "                      'source': '<a href=\"http://twitter.com/download/iphone\" '\n",
      "                                'rel=\"nofollow\">Twitter for iPhone</a>',\n",
      "                      'text': 'KellyAnne @KellyannePolls Conway suggests Obama '\n",
      "                              'was spying on Trump using microwave ovens. '\n",
      "                              '#PsychEval https://t.co/hc5JEaSnvv',\n",
      "                      'truncated': False,\n",
      "                      'user': {'contributors_enabled': False,\n",
      "                               'created_at': 'Wed Apr 07 20:43:27 +0000 2010',\n",
      "                               'default_profile': False,\n",
      "                               'default_profile_image': False,\n",
      "                               'description': 'GQ Special Correspondent: THE '\n",
      "                                              'RESISTANCE. Tom Jumbo-Grumbo on '\n",
      "                                              'Bojack Horseman. Dulwich Hamlet '\n",
      "                                              'FC. Hacked by Russia. Denounced '\n",
      "                                              'by Trump. NEW LOW!',\n",
      "                               'favourites_count': 9,\n",
      "                               'follow_request_sent': None,\n",
      "                               'followers_count': 872832,\n",
      "                               'following': None,\n",
      "                               'friends_count': 907,\n",
      "                               'geo_enabled': True,\n",
      "                               'id': 130617778,\n",
      "                               'id_str': '130617778',\n",
      "                               'is_translator': False,\n",
      "                               'lang': 'en',\n",
      "                               'listed_count': 19591,\n",
      "                               'location': None,\n",
      "                               'name': 'Keith Olbermann',\n",
      "                               'notifications': None,\n",
      "                               'profile_background_color': 'C0DEED',\n",
      "                               'profile_background_image_url': 'http://pbs.twimg.com/profile_background_images/196246275/KO1971YankeeStadium.jpg',\n",
      "                               'profile_background_image_url_https': 'https://pbs.twimg.com/profile_background_images/196246275/KO1971YankeeStadium.jpg',\n",
      "                               'profile_background_tile': False,\n",
      "                               'profile_banner_url': 'https://pbs.twimg.com/profile_banners/130617778/1488326315',\n",
      "                               'profile_image_url': 'http://pbs.twimg.com/profile_images/831400004271144960/wsC4JV8G_normal.jpg',\n",
      "                               'profile_image_url_https': 'https://pbs.twimg.com/profile_images/831400004271144960/wsC4JV8G_normal.jpg',\n",
      "                               'profile_link_color': '0084B4',\n",
      "                               'profile_sidebar_border_color': 'C0DEED',\n",
      "                               'profile_sidebar_fill_color': 'DDEEF6',\n",
      "                               'profile_text_color': '333333',\n",
      "                               'profile_use_background_image': True,\n",
      "                               'protected': False,\n",
      "                               'screen_name': 'KeithOlbermann',\n",
      "                               'statuses_count': 70329,\n",
      "                               'time_zone': 'Eastern Time (US & Canada)',\n",
      "                               'translator_type': 'none',\n",
      "                               'url': 'http://www.gq.com/story/watch-the-closer-keith-olbermann',\n",
      "                               'utc_offset': -14400,\n",
      "                               'verified': True}},\n",
      " 'source': '<a href=\"http://twitter.com\" rel=\"nofollow\">Twitter Web Client</a>',\n",
      " 'text': 'RT @KeithOlbermann: KellyAnne @KellyannePolls Conway suggests Obama '\n",
      "         'was spying on Trump using microwave ovens. #PsychEval '\n",
      "         'https://t.co/hc5J…',\n",
      " 'truncated': False,\n",
      " 'user': {'contributors_enabled': False,\n",
      "          'created_at': 'Wed Oct 05 07:18:53 +0000 2011',\n",
      "          'default_profile': False,\n",
      "          'default_profile_image': False,\n",
      "          'description': 'Subversive Homosexual Pontificator • Poly-Atheist '\n",
      "                         'Anti-War Socialist • http://LuxuriaMusic.com •\\n'\n",
      "                         'http://www.discoline.net •\\n'\n",
      "                         '#Resist #TheResistance',\n",
      "          'favourites_count': 40926,\n",
      "          'follow_request_sent': None,\n",
      "          'followers_count': 3558,\n",
      "          'following': None,\n",
      "          'friends_count': 4067,\n",
      "          'geo_enabled': False,\n",
      "          'id': 385292192,\n",
      "          'id_str': '385292192',\n",
      "          'is_translator': False,\n",
      "          'lang': 'en',\n",
      "          'listed_count': 263,\n",
      "          'location': 'A Drafty Downstairs Bedroom',\n",
      "          'name': 'Mr Burlesk',\n",
      "          'notifications': None,\n",
      "          'profile_background_color': '23362C',\n",
      "          'profile_background_image_url': 'http://pbs.twimg.com/profile_background_images/771880115/f3260660d6641a494fee06832ddcf2d1.png',\n",
      "          'profile_background_image_url_https': 'https://pbs.twimg.com/profile_background_images/771880115/f3260660d6641a494fee06832ddcf2d1.png',\n",
      "          'profile_background_tile': True,\n",
      "          'profile_banner_url': 'https://pbs.twimg.com/profile_banners/385292192/1398385079',\n",
      "          'profile_image_url': 'http://pbs.twimg.com/profile_images/3398238705/dbf514a1fdcf55d3be1effc6ab756bcb_normal.jpeg',\n",
      "          'profile_image_url_https': 'https://pbs.twimg.com/profile_images/3398238705/dbf514a1fdcf55d3be1effc6ab756bcb_normal.jpeg',\n",
      "          'profile_link_color': 'FF0000',\n",
      "          'profile_sidebar_border_color': 'FFFFFF',\n",
      "          'profile_sidebar_fill_color': 'FFF7CC',\n",
      "          'profile_text_color': '0C3E53',\n",
      "          'profile_use_background_image': True,\n",
      "          'protected': False,\n",
      "          'screen_name': 'mrburlesk',\n",
      "          'statuses_count': 144118,\n",
      "          'time_zone': None,\n",
      "          'translator_type': 'none',\n",
      "          'url': 'http://www.luxuriamusic.com',\n",
      "          'utc_offset': None,\n",
      "          'verified': False}}\n"
     ]
    }
   ],
   "source": [
    "# pprint(results[0]['text'])\n",
    "pprint(results[0])"
   ]
  },
  {
   "cell_type": "code",
   "execution_count": 119,
   "metadata": {
    "collapsed": false
   },
   "outputs": [
    {
     "name": "stdout",
     "output_type": "stream",
     "text": [
      "McCain to Trump: Provide wiretap evidence or retract claim https://t.co/FoyxBZfM3Y\n",
      "This Veteran Will Soon Receive A Groundbreaking Prosthetic Leg https://t.co/BiKFuNNy6D #MilitaryNews https://t.co/wOLFlXcusC\n",
      "Trump and Pence were warned about Michael Flynn's lobbying, but now claim they never knew https://t.co/SwMCf3F3BH\n",
      "El secretario de Estado de Trump se vuelve invisible - La Casa Blanca tiene un ministro fantasma. Es el secreta... https://t.co/9GllsXkA4X\n",
      "Trump said no Americans would lose coverage under Obamacare repeal. Paul Ryan won’t make that promise. https://t.co/sMFL8SP7he Facebook …\n",
      "AG Sessions met twice with Russian Ambassador Kislyak https://t.co/P8yVrVDuUb #KremlinCohorts #UniteBlue\n",
      "L.A. Gay Pride Parade to Be Replaced by Anti-Trump March - Breitbart https://t.co/M5k5PeP3u9 #BreitbartNews\n",
      "@LabourLeft what works for Trump...\n",
      "Holding Trump Accountable https://t.co/lN8kDuGjWR via @newyorker\n",
      "@kateMctimmons77 @Impeach_D_Trump Then you could look at King/Gohmert/Bishop/Lee on the right and see similar.\n",
      "Cut From the Same Cloth: Geert Wilders Follows the Trump Twitter Trail https://t.co/MqZaCtwFW7\n",
      "Trump and Putin may be #KremlinCohorts, but Russian election meddling aims to undermine Western Democracy https://t.co/CPw7f1WyBK\n",
      "#Trump 🇺🇸 Syrian children 'pushed to the brink' after worst atrocities since war began https://t.co/ic89dWtbNU ⬅️Se… https://t.co/X8LCl2p7uL\n",
      "This is a Trump Voter from KY.  I lived there.NEVER EVER get them riled up about Healthcare cuz they need it. Opioi… https://t.co/hCH8SwZCQg\n",
      "The Man Who Wants To Unmake The West - Europeans are starting to worry that Steve Bannon has the EU in his cros... https://t.co/2tEzcK2jNk\n",
      "@Salthorse1 Project Trump Free Maçons 2022 war in the States view by Waschington G bye of an Angel ?!  They like to write and make history !\n",
      "Trump said no Americans would lose coverage under Obamacare repeal. Paul Ryan won’t make that promise. https://t.co/NiV7As1yzJ #SahelNews\n",
      "Trump tried to call New York prosecutor Bharara before firing him: officials https://t.co/Zt1HFG9itw https://t.co/PqiRCmi7Og\n",
      "#AksiBelaTaipan412 Trump tried to call New York prosecutor Bharara before firing him: officials … https://t.co/tUAUyqFEo0\n",
      "New post: Schumer to fight Trump's plan to cut TSA and Coast Guard budgets https://t.co/3nT9v0i1Tw @TSABlogTeam\n",
      "Trump is a lifelong member of the KKK, and this too needs extensive reporting. https://t.co/5JYv2c4F4K\n",
      "Trump said no Americans would lose coverage under Obamacare repeal. Paul Ryan won’t make that promise. https://t.co/Mw5xq9MZ8s\n",
      "Vets say they were duped into helping Saudi Arabia dodge payouts to 9/11 victims https://t.co/AMtZ2Oi64V https://t.co/K4WexX1dYO\n",
      "Trump said no Americans would lose coverage under Obamacare repeal. Paul Ryan won’t make that promise.… https://t.co/xlDpKGf8Q4\n",
      "ASKING FOR IT&gt;&gt;&gt;Obama Lackey US Atty Preet Bharara Refused to Return Call to President Trump Day Before He Was Fired https://t.co/xbP7CGyUZi\n",
      "@DebAlwaystrump Exactly. Leftists forget that TRUMP rallies attracted tens of thousands each time. Hillary's attrac… https://t.co/JdsLD0qq5p\n",
      "Appropriately named since trump cares about no one... except himself. https://t.co/1wpInFnRUh\n",
      "@thehill it will be a bloodbath for them regardless as long as Trump is the parties figure head.\n",
      "The Man Who Wants To Unmake The West https://t.co/TBgPjGn1Nf #Digg\n",
      "#Trump 🇺🇸 Syrian children 'pushed to the brink' after worst atrocities since war began https://t.co/Us3qFyqVgI ⬅️Se… https://t.co/MFbxzMOAgi\n",
      "SOS Tillerson did business with two Russian owned oil/energy companies #KremlinCohorts #UniteBlue https://t.co/M0BIqJ6PjF\n",
      "Fired US attorney’s veiled tweet suggests he was investigating Trump before dismissal: https://t.co/pYqB9VNNpk\n",
      "When the condom boiling\n",
      " Hear me shout\n",
      " just lift Trump up\n",
      " And pour Goober out.\n",
      "What Trump Could Mean for Women in Business (and It May Not Be What You Think) https://t.co/nEtGZrm3QP\n",
      "WATCH: Poet @CarlosAGLive calls out Trump administration through spoken word https://t.co/XSblFc8Qzj via… https://t.co/ZLLILlTbuN\n",
      "El Congreso de Estados Unidos pide a Trump que presente las pruebas contra Obama https://t.co/NgQ8xzhHhL\n",
      "ADORABLE🌟DEPLORABLE on Twitter https://t.co/jkvxCPfQ0O https://t.co/91NCqqpwnB\n",
      "CSRN editor Jean-Paul Cassone': \"Cheney's Pence Will Assassinate Trump as Daddy Bush did Reagan.US Isn't a Republic… https://t.co/0yNP2Z6C4D\n",
      "Donald Trump could be forcing out U.S. Attorney A. Lee Bentley @SaintPetersBlog https://t.co/K2f8voytMT\n",
      "Previously Deported Alien, Brother Busted With 200 Pounds of Meth https://t.co/CxBl9OD0lM https://t.co/WU4ZKejmWa\n",
      "Trump: ‘I wouldn’t be president without this man’ https://t.co/4vICRzg17U via @worldnetdaily\n",
      "Escándalo por hackeo a demócratas salpica a uno de los asesores de Trump https://t.co/WUuvtreAxF https://t.co/1LN7EQnH22\n",
      "Trump budget opens new fight among Republicans - WASHINGTON (Reuters) - Republican U.S. Representative Todd Rok... https://t.co/cTVysfh2RU\n",
      "(Never Asked Who Leaked @GenFlynn) Top Republican challenges .@POTUS Trump to prove wiretapping claim https://t.co/BHFn1SDXwa via @YahooNews\n",
      "@bellezzavitale fuck trump is setting the bar pretty low. When he says \"fuck the fans\" he's lost on me. And I'll tolerate almost anyone\n",
      "Trump Voters Hit Hardest by Health Care Plan https://t.co/0NU3ozW6nr https://t.co/GG5ZbV2WkT\n",
      "Instagram post by AZWS ��� Mar 12, 2017 at 7:15pm UTC https://t.co/wc3Kydzhe8 #Repost #300blackout #sbr https://t.co/mK0gh20fkd\n",
      "Alemania rechaza el pedido de Trump de aumentar los gastos militares https://t.co/uamr73kUJx\n",
      "Donald Trump Wiretapping Claims, House Intel Committee Sets Monday Deadline for Proof https://t.co/m5cJw2kCZA\n",
      "'No, I Am Not Going To Give Him A Chance' - An Open Letter To Trump Supporters https://t.co/bYVa1Rgsh4\n",
      ".@Digital_Venus @JalyIV @The_Trump_Train @KellyannePolls @realDonaldTrump Wow, Kellyanne has aged 20 years since she started working 4 Trump\n",
      "Escándalo por hackeo a demócratas salpica a uno de los asesores de Trump https://t.co/sTsi8XpXZv https://t.co/1pgdkKraZe\n",
      "In China, businesses ; women flock to copy Ivanka Trump https://t.co/Qh21A2ISTi https://t.co/WaqOBKMeU5\n",
      "Rex Tillerson, el secretario de Estado fantasma de Trump https://t.co/YcoT2oW3jT\n",
      "For-Profit School Shares Lifted, as Trump Delays New Rules - Stocks in the for-profit college industry have cli... https://t.co/1a60f1llQD\n",
      "Regardless of how high priority the Russian influence is amongst potential Trump catastrophes, it's real, illegal,… https://t.co/aybxLo5yql\n",
      "Trump Voters Hit Hardest by Health Care Plan https://t.co/YTarD6tFkg https://t.co/u0WCc72Ppt\n",
      "The Washington Post: They are poor, sick and voted for Trump. Now they might lose health care.\n",
      "\n",
      "https://t.co/80fT6q7pE3\n",
      "Here s why Apple is a value stock https://t.co/6QF1319iGc https://t.co/AJnthIpPVj\n",
      "The Hill on Twitter https://t.co/wqoqNWB2L8 https://t.co/u3CCZHfUGU\n",
      "En febrero del 2009 varias vallas publicitarias anunciaban la venta de condominios Trump Ocean Resort Baja en T... https://t.co/JINrK6ajYV\n",
      "If @Dennis_Kucinich had nothing to hide @SteveKingIA, why use burner phone when speaking to a known terrorists son?… https://t.co/08ibr6uhdS\n",
      "@CNNPolitics #DonaldTrump is bizzare!! Wiretapping has got to be a LYE!! We all know Trump should have his brain TAPPED!! NOTHING !! LOOSE🔩🔩\n",
      "Trump Voters Hit Hardest by Health Care Plan https://t.co/KJHcQd7XYw https://t.co/3aanhSFAHl\n",
      "After pledging to donate salary, Trump administration declines to release proof https://t.co/bb20gmNBUE\n",
      "Trump Voters Hit Hardest by Health Care Plan https://t.co/NIkHBvubvk https://t.co/vCYWwo0qMk\n",
      "Trump Voters Hit Hardest by Health Care Plan https://t.co/CVcqrDS7Wc https://t.co/N3ZgtCK00R\n",
      "The President Changed. So Has Small Businesses' Confidence. - New York Times https://t.co/B3jrcPJShC\n",
      "SNL skewers first daughter Ivanka Trump https://t.co/nwnvvRFSDt\n",
      "Trump Voters Hit Hardest by Health Care Plan https://t.co/HtzLUezMvp https://t.co/TdZ7oIXdY1\n",
      "Escándalo por hackeo a demócratas salpica a uno de los asesores de Trump https://t.co/gfy3x8ZbQc https://t.co/15e1OwVDC6\n",
      "Hearing delayed for Trump labor nominee because senator is going to Trump rally https://t.co/yWf05CVShj\n",
      "Has Trump Followed Through on Promise to Donate Salary? https://t.co/yJ0AxUuUAj https://t.co/M5KSDK8lKL\n",
      "Brzezinski: 'We are all really nervous' about Trump https://t.co/b5gKZxx2hy https://t.co/eu1O7lL5OG\n",
      "Trump Voters Hit Hardest by Health Care Plan https://t.co/AB4R1oz7HK https://t.co/DLwoXjZMpd\n",
      "Washington Post: Trump is already claiming credit for a strong economy. But for his suppor...… https://t.co/WK9S3CyujT\n",
      "Rand Paul, Kentucky senator, stokes division between President Trump, Paul Ryan on health - The Washington Times https://t.co/ctzNZE0bah\n",
      "Trump delay used when questioned about the bugging accusation. He will say its forth coming like his taxes &amp; malanias immigration status.\n",
      "@cnnbrk every picture i see of trump  he has his head high..soon it will hang as he is found to be a FAKE PRESIDENT\n",
      "Trump Admin: Look at our great economic data!\n",
      "Me: It's pretty much in trend with last year.\n",
      "Admin: But that was all fake, this is real now!\n",
      "#LoVisteEnUrbánica Scarlett Johansson es Ivanka Trump en un anuncio parodia de SNL https://t.co/V2Q8KisV0J\n",
      "BREAKING: War Between  Trump And Deep  State Heats Up. https://t.co/Rd4wAsZfG4\n",
      "Has Trump Followed Through on Promise to Donate Salary? https://t.co/FNNX5YhOcc https://t.co/EhDUxhjQE5\n",
      "Trump always was a PERFECT PUPPET 4 Russia. I wonder do U make more money off your investment in Russia than the US… https://t.co/vdJ1M3q9mI\n",
      "More Trump advisers disclose meetings with Russia's ambassador.\n",
      "\n",
      "#KremlinCohorts list is getting longer!\n",
      "https://t.co/xyvh2GDOog\n",
      "\n",
      "#UniteBlue\n",
      "@Nikluk @lavenderblue27  Tony Schwartz who wrote \"Art of the Deal\" said repeatedly in TV interviews that lying is 2nd nature to Trump.\n",
      "Has Trump Followed Through on Promise to Donate Salary? https://t.co/tUBsu14BNq https://t.co/W7HUVcD0PF\n",
      "Has Trump Followed Through on Promise to Donate Salary? https://t.co/TvOL3S3Lgi https://t.co/RFuXi2Im5C\n",
      "@forewit He did donate! To The Donald J Trump Organization?\n",
      "All of Trump’s Ties to Russia, in 7 Charts https://t.co/R1yTsqndLd  #WomensMarch #RESISTANCE #resist #ShePersisted #Vote2018\n",
      "Has Trump Followed Through on Promise to Donate Salary? https://t.co/ZLj0hQNjfi https://t.co/QgRmZXY7OI\n",
      "Has Trump Followed Through on Promise to Donate Salary? https://t.co/ithshr1dCC https://t.co/oVxgN2ngNz\n",
      "Either way they will lose a customer and I am a big one in many different locations. If they do not carry Trump pro… https://t.co/C5oWdoU3g0\n",
      "After firing Preet Bharara, Trump beware https://t.co/NUvRK9jyGK PREET SHOULD GO AFTER TRUMP WITH EVERYTHING HE GOT. SLEEPLESS NIGHTS AWAITS\n",
      "Has Trump Followed Through on Promise to Donate Salary? https://t.co/TLnmS21nAn https://t.co/KFU53lUZHE\n",
      "Trump's Cronies are #KremlinCohorts\n",
      "\n",
      "#KremlinGate \n",
      "#Complicit \n",
      "#FireSessions \n",
      "#SessionsMustResign https://t.co/Clt6NxdwRh\n",
      "Trump's Cronies are #KremlinCohorts\n",
      "\n",
      "#KremlinGate \n",
      "#Complicit \n",
      "#FireSessions \n",
      "#SessionsMustResign https://t.co/lnAiGQ3tG8\n",
      "Trump's Cronies are #KremlinCohorts\n",
      "\n",
      "#KremlinGate \n",
      "#Complicit \n",
      "#FireSessions \n",
      "#SessionsMustResign https://t.co/khx1nzurF6\n",
      "Health: Joe Biden at SXSW Vows to Work With the Trump Administration on Cancer https://t.co/XFgDqpxShH\n",
      "Trump's Cronies are #KremlinCohorts\n",
      "\n",
      "#KremlinGate \n",
      "#Complicit \n",
      "#FireSessions \n",
      "#SessionsMustResign https://t.co/FtyM9jrC0P\n",
      "\"Having supposedly uncovered a scandal comparable to Watergate, what did the president do next? He took a respite... https://t.co/74Iov7em8v\n",
      "Trump's Cronies are #KremlinCohorts\n",
      "\n",
      "#KremlinGate \n",
      "#Complicit \n",
      "#FireSessions \n",
      "#SessionsMustResign https://t.co/RB59XDARmN\n",
      "Washington restaurant sues Trump over alleged unfair hotel competition | Reuters #SmartNews https://t.co/S1LlhWwfXI\n",
      "Trump's Cronies are #KremlinCohorts\n",
      "\n",
      "#KremlinGate \n",
      "#Complicit \n",
      "#FireSessions \n",
      "#SessionsMustResign https://t.co/ntstkM9TRo\n",
      "Trump's Cronies are #KremlinCohorts\n",
      "\n",
      "#KremlinGate \n",
      "#Complicit \n",
      "#FireSessions \n",
      "#SessionsMustResign https://t.co/uQjeIrBmxq\n",
      "Bill Gates Interview: I Told Trump 'How Wonderful' Vaccines Are https://t.co/CYRVQHs8jc\n",
      "STAR IS BORN: Sarah Huckabee Sanders rising in Trump orbit… - STAR IS BORN: Sarah Huckabee Sanders rising in Tr... https://t.co/0E0PEbQajX\n",
      "SXSW festival takes on Trump… - SXSW festival takes on Trump… (First column, 11th story, link) Related stories:... https://t.co/g9TjOYpdyb\n",
      "Donald Trump's America \n",
      "⚡️ “Bomb threats reported against Jewish schools in several cities”\n",
      "\n",
      "https://t.co/5ldX8kPgJA\n",
      "Federal Court Blocks Trump Admin's Immigration Executive Order https://t.co/pCMQmE2njp https://t.co/VKldBBsfRC\n",
      "Everything trump is doing has evil consequences for people, nature and the planet..... https://t.co/pZv9ZZZkk7\n",
      "Dropping auto mileage rules would be a catastrophe @CNN https://t.co/m8n2Mt1SOZ\n"
     ]
    }
   ],
   "source": [
    "for res in results:\n",
    "    try:\n",
    "        if res['retweeted_status'] == dict:\n",
    "            full_text = res['retweeted_status']['extended_tweet']['full_text']\n",
    "            if \"lie\" in full_text:\n",
    "                print(full_text)\n",
    "    except KeyError:\n",
    "        print(res['text'])"
   ]
  },
  {
   "cell_type": "code",
   "execution_count": 98,
   "metadata": {
    "collapsed": false
   },
   "outputs": [],
   "source": [
    "for res in results:\n",
    "    try:\n",
    "        url = res['retweeted_status']['entities']['urls']\n",
    "        if (len(url) > 0):\n",
    "            if \"\" in url[0]['unwound']['url']:\n",
    "                print(url[0]['unwound']['url'])\n",
    "        if len(res['entities']['urls']) > 0:\n",
    "            if \"fact\" in res['entities']['urls']:\n",
    "                print(res['entities']['urls'], \"\\n\")\n",
    "    except KeyError:\n",
    "        continue"
   ]
  },
  {
   "cell_type": "code",
   "execution_count": 25,
   "metadata": {
    "collapsed": false
   },
   "outputs": [
    {
     "data": {
      "text/plain": [
       "154"
      ]
     },
     "execution_count": 25,
     "metadata": {},
     "output_type": "execute_result"
    }
   ],
   "source": [
    "results[0]['retweeted_status']['retweet_count']"
   ]
  },
  {
   "cell_type": "code",
   "execution_count": null,
   "metadata": {
    "collapsed": true
   },
   "outputs": [],
   "source": []
  }
 ],
 "metadata": {
  "kernelspec": {
   "display_name": "Python 3",
   "language": "python",
   "name": "python3"
  },
  "language_info": {
   "codemirror_mode": {
    "name": "ipython",
    "version": 3
   },
   "file_extension": ".py",
   "mimetype": "text/x-python",
   "name": "python",
   "nbconvert_exporter": "python",
   "pygments_lexer": "ipython3",
   "version": "3.6.0"
  }
 },
 "nbformat": 4,
 "nbformat_minor": 2
}
