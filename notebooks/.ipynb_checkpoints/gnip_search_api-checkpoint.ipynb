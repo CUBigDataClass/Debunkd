{
 "cells": [
  {
   "cell_type": "code",
   "execution_count": 23,
   "metadata": {
    "collapsed": true
   },
   "outputs": [],
   "source": [
    "import requests\n",
    "import json\n",
    "import configparser\n",
    "from pprint import pprint"
   ]
  },
  {
   "cell_type": "code",
   "execution_count": 17,
   "metadata": {
    "collapsed": false
   },
   "outputs": [],
   "source": [
    "query = \"hillary clinton\"\n",
    "maxResults = 500\n",
    "url = \"https://gnip-api.twitter.com/search/fullarchive/accounts/greg-students/prod.json?query={}&maxResults={}\""
   ]
  },
  {
   "cell_type": "code",
   "execution_count": 3,
   "metadata": {
    "collapsed": false
   },
   "outputs": [
    {
     "data": {
      "text/plain": [
       "['credentials.ini']"
      ]
     },
     "execution_count": 3,
     "metadata": {},
     "output_type": "execute_result"
    }
   ],
   "source": [
    "config = configparser.ConfigParser()\n",
    "config.read('credentials.ini')"
   ]
  },
  {
   "cell_type": "code",
   "execution_count": 18,
   "metadata": {
    "collapsed": true
   },
   "outputs": [],
   "source": [
    "r = requests.get(url.format(query, maxResults), auth=(config['GNIP_API']['username'], config['GNIP_API']['password']))"
   ]
  },
  {
   "cell_type": "code",
   "execution_count": 19,
   "metadata": {
    "collapsed": false
   },
   "outputs": [],
   "source": [
    "results = r.json()['results']"
   ]
  },
  {
   "cell_type": "code",
   "execution_count": 31,
   "metadata": {
    "collapsed": false
   },
   "outputs": [
    {
     "name": "stdout",
     "output_type": "stream",
     "text": [
      "291709775  ~  RT @charliekirk11: Clinton machine knew of Trump wiretaps.  With this sort of collusion, it's amazing Trump won!https://t. co/g3YqZKwgkT\n",
      "2792304470  ~  RT @DisavowTrump16: She fought for us for thirty years, and today we should honor her for that.  RETWEET to thank Hillary Clinton!… \n",
      "2993386048  ~  RT @charliekirk11: Clinton machine knew of Trump wiretaps.  With this sort of collusion, it's amazing Trump won!https://t. co/g3YqZKwgkT\n",
      "2922305530  ~  RT @JessieJaneDuff: Voters know \"that dog don't hunt\": 58% of likely New York City voters don't want Hillary Clinton to run for mayor https…\n",
      "2288908067  ~  RT @foxandfriends: Most NYC voters wanted her to be POTUS, but a new poll shows they don't want Hillary Clinton to run for mayor https://t. …\n",
      "46916822  ~  RT @MdlMurray: BREAKING: Clinton Campaign Manager Robby Mook CONFIRMS He Knew About Wiretaps (VIDEO) https://t. co/XYJPlooXqc\n",
      "2535832608  ~  RT @MrDane1982: Hillary Clinton a trailblazer! Activist, Lawyer, Professor, 1st Lady of Arkansas &amp; America, Senator, Sec of State,… \n",
      "46255008  ~  RT @foxandfriends: Most NYC voters wanted her to be POTUS, but a new poll shows they don't want Hillary Clinton to run for mayor https://t. …\n",
      "41009501  ~  RT @MarkSimoneNY: Clinton campaign confirms they knew of Trump campaign wiretaps, says they were directed at Russians: https://t. co/2fWW9Xi…\n",
      "49190798  ~  @VP You mean like Hillary Clinton?\n",
      "2380483059  ~  RT @historyinmoment: Hillary Clinton in June 1969 https://t. co/fyduHRoTXk\n",
      "311030684  ~  RT @mtracey: 90% of Clinton’s attack ads went after Trump as an individual, compared with just 10% that went after his policies https://t. c…\n",
      "1596293990  ~  \"Hillary Clinton is not a woman, she's a pant suit mannequin\" ~Mom 2020\n",
      "817552805485543428  ~  RT @MatthewACherry: Shout out to Hillary Clinton on #internationalwomensday.  She got 3 million more votes than Twitler &amp; would have bee… \n",
      "772030559262351360  ~  RT @JessieJaneDuff: Voters know \"that dog don't hunt\": 58% of likely New York City voters don't want Hillary Clinton to run for mayor https…\n",
      "16359336  ~  RT @kylegriffin1: This was retweeted—and then deleted—by Hillary Clinton.  https://t. co/WaTvAMP4IC\n",
      "810783692213850112  ~  RT @AsheSchow: They set out to prove sexism hurt Hillary Clinton.  Turns out she would have been liked LESS if she were a man - https://t. co…\n",
      "810368511499497472  ~  RT @kjay314: Kim Kardashian Stole Hillary Clinton’s Look? And Guess Who Wore It Better!. . . . . . . . . https://t. co/nlwsNLnArz\n",
      "810392065280446464  ~  RT @kjay314: Kim Kardashian Stole Hillary Clinton’s Look? And Guess Who Wore It Better!. . . . . . . . . https://t. co/nlwsNLnArz\n",
      "813624353065672704  ~  RT @kjay314: Kim Kardashian Stole Hillary Clinton’s Look? And Guess Who Wore It Better!. . . . . . . . . https://t. co/nlwsNLnArz\n"
     ]
    }
   ],
   "source": [
    "for i in results[0:20]:\n",
    "    print(i['user']['id'], ' ~ ', \". \".join(i['text'].replace(\"\\n\", \"\").split(\".\")))\n",
    "#     if i['retweeted']:\n",
    "#         print(\"True\")"
   ]
  }
 ],
 "metadata": {
  "kernelspec": {
   "display_name": "Python 3",
   "language": "python",
   "name": "python3"
  },
  "language_info": {
   "codemirror_mode": {
    "name": "ipython",
    "version": 3
   },
   "file_extension": ".py",
   "mimetype": "text/x-python",
   "name": "python",
   "nbconvert_exporter": "python",
   "pygments_lexer": "ipython3",
   "version": "3.6.0"
  }
 },
 "nbformat": 4,
 "nbformat_minor": 2
}
